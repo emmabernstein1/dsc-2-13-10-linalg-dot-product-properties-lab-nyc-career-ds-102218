{
 "cells": [
  {
   "cell_type": "markdown",
   "metadata": {},
   "source": [
    "# Properties of Dot Product - Lab"
   ]
  },
  {
   "cell_type": "markdown",
   "metadata": {},
   "source": [
    "## Introduction\n",
    "\n",
    "In this lab we shall look at some interesting properties of a Dot product type matrix multiplication. Understanding these properties will become useful as we move forward with machine learning advanced linear algebra. The lab will require you to calculate results to provide a proof for these properties.\n",
    "\n",
    "## Objectives\n",
    "You will be able to:\n",
    "* Understand and analytically explain Distributive, Commutative and Associative properties of dot product\n",
    "\n",
    "## Instructions\n",
    "\n",
    "* For each property, create suitably sized matrices with random data and prove the equations \n",
    "* Ensure that size/dimension assumptions are met while performing calculations (you'll see errors otherwise)\n",
    "* Calculate the LHS and RHS for all equations and show if they are equal or not"
   ]
  },
  {
   "cell_type": "markdown",
   "metadata": {},
   "source": [
    "## Distributive Property - Matrices multiplication is distributive\n",
    "### Prove that A.(B+C)=A.B+A.C"
   ]
  },
  {
   "cell_type": "code",
   "execution_count": 8,
   "metadata": {},
   "outputs": [
    {
     "name": "stdout",
     "output_type": "stream",
     "text": [
      "[[476. 419. 419.]\n",
      " [424. 370. 372.]\n",
      " [430. 383. 383.]\n",
      " [193. 158. 162.]]\n",
      "[[476. 419. 419.]\n",
      " [424. 370. 372.]\n",
      " [430. 383. 383.]\n",
      " [193. 158. 162.]]\n"
     ]
    }
   ],
   "source": [
    "import numpy as np\n",
    "import random\n",
    "\n",
    "def fill(M):\n",
    "    for x in range(0, M.shape[0]):\n",
    "        for y in range(0, M.shape[1]):\n",
    "            M[x][y] = random.randrange(1, 10)\n",
    "    return M\n",
    "\n",
    "A_z = np.zeros((4,5))\n",
    "B_z = np.zeros((5,3))\n",
    "C_z = np.zeros((5,3))\n",
    "\n",
    "A = fill(A_z)\n",
    "B = fill(B_z)\n",
    "C = fill(C_z)\n",
    "\n",
    "LHS = A.dot(B+C)\n",
    "RHS = A.dot(B) + A.dot(C)\n",
    "\n",
    "print(LHS)\n",
    "print(RHS)"
   ]
  },
  {
   "cell_type": "markdown",
   "metadata": {},
   "source": [
    "## Associative Property - Matrices multiplication is associative\n",
    "### Prove that A.(B.C)=(A.B).C"
   ]
  },
  {
   "cell_type": "code",
   "execution_count": 6,
   "metadata": {},
   "outputs": [
    {
     "name": "stdout",
     "output_type": "stream",
     "text": [
      "[[2011. 1504. 1915. 1286.]\n",
      " [1550. 1177. 1485.  925.]\n",
      " [3044. 2290. 2876. 1888.]\n",
      " [2340. 1767. 2291. 1449.]]\n",
      "[[2011. 1504. 1915. 1286.]\n",
      " [1550. 1177. 1485.  925.]\n",
      " [3044. 2290. 2876. 1888.]\n",
      " [2340. 1767. 2291. 1449.]]\n"
     ]
    }
   ],
   "source": [
    "A_z = np.zeros((4,5))\n",
    "B_z = np.zeros((5,3))\n",
    "C_z = np.zeros((3,4))\n",
    "\n",
    "A = fill(A_z)\n",
    "B = fill(B_z)\n",
    "C = fill(C_z)\n",
    "\n",
    "LHS = A.dot(B.dot(C))\n",
    "RHS = (A.dot(B)).dot(C)\n",
    "\n",
    "print(LHS)\n",
    "print(RHS)"
   ]
  },
  {
   "cell_type": "markdown",
   "metadata": {},
   "source": [
    "## Commutative Property - Matrix multiplication is NOT commutative\n",
    "### Prove that for matrices, A.B ≠ B.A"
   ]
  },
  {
   "cell_type": "code",
   "execution_count": 10,
   "metadata": {},
   "outputs": [
    {
     "name": "stdout",
     "output_type": "stream",
     "text": [
      "[[138. 142. 160. 150.]\n",
      " [143. 141. 138. 126.]\n",
      " [121. 141. 147. 163.]\n",
      " [107. 126. 103. 107.]]\n",
      "[[ 85.  76.  63.  90.  78.]\n",
      " [ 55.  69.  49.  82.  78.]\n",
      " [154. 149. 128. 176. 172.]\n",
      " [162. 156. 144. 183. 195.]\n",
      " [110.  40.  75.  62.  68.]]\n"
     ]
    }
   ],
   "source": [
    "A_z = np.zeros((4,5))\n",
    "B_z = np.zeros((5,4))\n",
    "\n",
    "A = fill(A_z)\n",
    "B = fill(B_z)\n",
    "\n",
    "LHS = A.dot(B)\n",
    "RHS = B.dot(A)\n",
    "\n",
    "print(LHS)\n",
    "print(RHS)"
   ]
  },
  {
   "cell_type": "markdown",
   "metadata": {},
   "source": [
    "## Commutative Property -  vector multiplication IS commutative\n",
    "### Prove that for vectors, x<sup>T</sup> . y = y<sup>T</sup> . x\n",
    "Note: superscipt<sup>T</sup> denotes the transpose we saw earlier"
   ]
  },
  {
   "cell_type": "code",
   "execution_count": 13,
   "metadata": {},
   "outputs": [
    {
     "name": "stdout",
     "output_type": "stream",
     "text": [
      "[[90.]]\n",
      "[[90.]]\n"
     ]
    }
   ],
   "source": [
    "x_z = np.zeros((4,1))\n",
    "y_z = np.zeros((4,1))\n",
    "\n",
    "x = fill(x_z)\n",
    "y = fill(y_z)\n",
    "\n",
    "LHS = (np.transpose(x)).dot(y)\n",
    "RHS = (np.transpose(y)).dot(x)\n",
    "\n",
    "print(LHS)\n",
    "print(RHS)"
   ]
  },
  {
   "cell_type": "markdown",
   "metadata": {},
   "source": [
    "#### and finally \n",
    "## Simplification of the matrix product\n",
    "### Prove that  (A.B)<sup>T</sup> = B<sup>T</sup> . A<sup>T</sup>"
   ]
  },
  {
   "cell_type": "code",
   "execution_count": 14,
   "metadata": {},
   "outputs": [
    {
     "ename": "ValueError",
     "evalue": "shapes (4,5) and (4,5) not aligned: 5 (dim 1) != 4 (dim 0)",
     "output_type": "error",
     "traceback": [
      "\u001b[0;31m\u001b[0m",
      "\u001b[0;31mValueError\u001b[0mTraceback (most recent call last)",
      "\u001b[0;32m<ipython-input-14-4a5ca9edd8ac>\u001b[0m in \u001b[0;36m<module>\u001b[0;34m()\u001b[0m\n\u001b[1;32m      5\u001b[0m \u001b[0mB\u001b[0m \u001b[0;34m=\u001b[0m \u001b[0mfill\u001b[0m\u001b[0;34m(\u001b[0m\u001b[0mB_z\u001b[0m\u001b[0;34m)\u001b[0m\u001b[0;34m\u001b[0m\u001b[0m\n\u001b[1;32m      6\u001b[0m \u001b[0;34m\u001b[0m\u001b[0m\n\u001b[0;32m----> 7\u001b[0;31m \u001b[0mLHS\u001b[0m \u001b[0;34m=\u001b[0m \u001b[0mnp\u001b[0m\u001b[0;34m.\u001b[0m\u001b[0mtranspose\u001b[0m\u001b[0;34m(\u001b[0m\u001b[0mA\u001b[0m\u001b[0;34m.\u001b[0m\u001b[0mdot\u001b[0m\u001b[0;34m(\u001b[0m\u001b[0mB\u001b[0m\u001b[0;34m)\u001b[0m\u001b[0;34m)\u001b[0m\u001b[0;34m\u001b[0m\u001b[0m\n\u001b[0m\u001b[1;32m      8\u001b[0m \u001b[0mRHS\u001b[0m \u001b[0;34m=\u001b[0m \u001b[0;34m(\u001b[0m\u001b[0mnp\u001b[0m\u001b[0;34m.\u001b[0m\u001b[0mtranspose\u001b[0m\u001b[0;34m(\u001b[0m\u001b[0mB\u001b[0m\u001b[0;34m)\u001b[0m\u001b[0;34m)\u001b[0m\u001b[0;34m.\u001b[0m\u001b[0mdot\u001b[0m\u001b[0;34m(\u001b[0m\u001b[0mnp\u001b[0m\u001b[0;34m.\u001b[0m\u001b[0mtranspose\u001b[0m\u001b[0;34m(\u001b[0m\u001b[0mA\u001b[0m\u001b[0;34m)\u001b[0m\u001b[0;34m)\u001b[0m\u001b[0;34m\u001b[0m\u001b[0m\n\u001b[1;32m      9\u001b[0m \u001b[0;34m\u001b[0m\u001b[0m\n",
      "\u001b[0;31mValueError\u001b[0m: shapes (4,5) and (4,5) not aligned: 5 (dim 1) != 4 (dim 0)"
     ]
    }
   ],
   "source": [
    "A_z = np.zeros((4,5))\n",
    "B_z = np.zeros((4,5))\n",
    "\n",
    "A = fill(A_z)\n",
    "B = fill(B_z)\n",
    "\n",
    "LHS = np.transpose(A.dot(B))\n",
    "RHS = (np.transpose(B)).dot(np.transpose(A))\n",
    "\n",
    "print(LHS)\n",
    "print(RHS)"
   ]
  },
  {
   "cell_type": "markdown",
   "metadata": {},
   "source": [
    "## Summary \n",
    "\n",
    "So now we have seen enough matrix algebra to help us solve a problem of linear equations as we saw earlier in this section. We shall see how to do this next. "
   ]
  }
 ],
 "metadata": {
  "kernelspec": {
   "display_name": "Python 3",
   "language": "python",
   "name": "python3"
  },
  "language_info": {
   "codemirror_mode": {
    "name": "ipython",
    "version": 3
   },
   "file_extension": ".py",
   "mimetype": "text/x-python",
   "name": "python",
   "nbconvert_exporter": "python",
   "pygments_lexer": "ipython3",
   "version": "3.6.6"
  }
 },
 "nbformat": 4,
 "nbformat_minor": 2
}
